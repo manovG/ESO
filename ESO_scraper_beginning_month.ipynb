{
 "cells": [
  {
   "cell_type": "code",
   "execution_count": 1,
   "metadata": {},
   "outputs": [],
   "source": [
    "# Tutorial for the scraping:\n",
    "# https://www.youtube.com/watch?v=8dTpNajxaH0\n",
    "\n",
    "import pandas as pd\n",
    "from bs4 import BeautifulSoup\n",
    "import requests"
   ]
  },
  {
   "cell_type": "code",
   "execution_count": 3,
   "metadata": {},
   "outputs": [],
   "source": [
    "import datetime\n",
    "\n",
    "\n",
    "\n",
    "# Define the start and end dates\n",
    "start_date = datetime.datetime(2024, 7, 12)\n",
    "end_date = datetime.datetime(2024, 11, 2)\n",
    "\n",
    "# Create a list to store the URLs\n",
    "urls = []\n",
    "\n",
    "# Loop through the date range\n",
    "current_date = start_date\n",
    "while current_date <= end_date:\n",
    "    # Format the date as DD.MM.YYYY\n",
    "    formatted_date = current_date.strftime('%d.%m.%Y')\n",
    "    # Create the URL\n",
    "    url = f'https://www.eso.bg/imb/?imbalance-prices&date={formatted_date}'\n",
    "    # Append the URL to the list\n",
    "    urls.append(url)\n",
    "    # Increment the current date by one day\n",
    "    current_date += datetime.timedelta(days=1)"
   ]
  },
  {
   "cell_type": "code",
   "execution_count": 7,
   "metadata": {},
   "outputs": [
    {
     "data": {
      "text/plain": [
       "datetime.datetime(2024, 11, 3, 15, 6, 57, 359194)"
      ]
     },
     "execution_count": 7,
     "metadata": {},
     "output_type": "execute_result"
    }
   ],
   "source": [
    "today = datetime.datetime.now()\n",
    "today"
   ]
  },
  {
   "cell_type": "code",
   "execution_count": 9,
   "metadata": {},
   "outputs": [
    {
     "data": {
      "text/plain": [
       "datetime.datetime(2024, 11, 1, 15, 6, 57, 359194)"
      ]
     },
     "execution_count": 9,
     "metadata": {},
     "output_type": "execute_result"
    }
   ],
   "source": [
    "start_date = today.replace(day=1)\n",
    "start_date"
   ]
  },
  {
   "cell_type": "code",
   "execution_count": null,
   "metadata": {},
   "outputs": [],
   "source": []
  }
 ],
 "metadata": {
  "kernelspec": {
   "display_name": "base",
   "language": "python",
   "name": "python3"
  },
  "language_info": {
   "codemirror_mode": {
    "name": "ipython",
    "version": 3
   },
   "file_extension": ".py",
   "mimetype": "text/x-python",
   "name": "python",
   "nbconvert_exporter": "python",
   "pygments_lexer": "ipython3",
   "version": "3.9.7"
  }
 },
 "nbformat": 4,
 "nbformat_minor": 2
}
