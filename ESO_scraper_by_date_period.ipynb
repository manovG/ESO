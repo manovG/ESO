{
 "cells": [
  {
   "cell_type": "code",
   "execution_count": 1,
   "metadata": {},
   "outputs": [],
   "source": [
    "# Tutorial for the scraping:\n",
    "# https://www.youtube.com/watch?v=8dTpNajxaH0\n",
    "\n",
    "import pandas as pd\n",
    "from bs4 import BeautifulSoup\n",
    "import requests"
   ]
  },
  {
   "cell_type": "code",
   "execution_count": 2,
   "metadata": {},
   "outputs": [],
   "source": [
    "import datetime\n",
    "\n",
    "# Define the start and end dates\n",
    "start_date = datetime.datetime(2024, 11, 1)\n",
    "end_date = datetime.datetime(2024, 11, 3)\n",
    "\n",
    "# Create a list to store the URLs\n",
    "urls = []\n",
    "\n",
    "# Loop through the date range\n",
    "current_date = start_date\n",
    "while current_date <= end_date:\n",
    "    # Format the date as DD.MM.YYYY\n",
    "    formatted_date = current_date.strftime('%d.%m.%Y')\n",
    "    # Create the URL\n",
    "    url = f'https://www.eso.bg/imb/?imbalance-prices&date={formatted_date}'\n",
    "    # Append the URL to the list\n",
    "    urls.append(url)\n",
    "    # Increment the current date by one day\n",
    "    current_date += datetime.timedelta(days=1)\n",
    "\n"
   ]
  },
  {
   "cell_type": "code",
   "execution_count": 3,
   "metadata": {},
   "outputs": [],
   "source": [
    "page = requests.get(url)\n",
    "soup = BeautifulSoup(page.text, 'html')\n",
    "\n",
    "# table with prices from ESO\n",
    "tablePrices = soup.find_all('table')[0]\n",
    "listTitles = tablePrices.find_all('th')\n",
    "listTitles\n",
    "\n",
    "#get titles of the dataframe from ESO\n",
    "df_Prices = pd.DataFrame(columns= [titles.text.strip() for titles in listTitles])\n",
    "\n",
    "for url in urls:\n",
    "    page = requests.get(url)\n",
    "    soup = BeautifulSoup(page.text, 'html')\n",
    "\n",
    "    # table with prices from ESO\n",
    "    tablePrices = soup.find_all('table')[0]\n",
    "    listTitles = tablePrices.find_all('th')\n",
    "    listTitles\n",
    "\n",
    "    # find tr tag in table where prices are from ESO\n",
    "    columnData  = tablePrices.find_all('tr')\n",
    "\n",
    "    for row in columnData[1:]:\n",
    "        row_data = row.find_all('td')\n",
    "        individualRowData = [data.text.strip() for data in row_data]\n",
    "        \n",
    "        lenght = len(df_Prices)\n",
    "        df_Prices.loc[lenght] = individualRowData\n",
    "\n",
    "\n",
    "    # Strip to get the desired format \"DD.MM.YYYY HH:MM\"\n",
    "    df_Prices['Сетълмент период'] = df_Prices['Сетълмент период'].str.split('-').str[0]\n",
    "    df_Prices['Сетълмент период'] = df_Prices['Сетълмент период'].apply(lambda x: f\"{x[:16]}\")"
   ]
  },
  {
   "cell_type": "code",
   "execution_count": null,
   "metadata": {},
   "outputs": [],
   "source": []
  }
 ],
 "metadata": {
  "kernelspec": {
   "display_name": "base",
   "language": "python",
   "name": "python3"
  },
  "language_info": {
   "codemirror_mode": {
    "name": "ipython",
    "version": 3
   },
   "file_extension": ".py",
   "mimetype": "text/x-python",
   "name": "python",
   "nbconvert_exporter": "python",
   "pygments_lexer": "ipython3",
   "version": "3.9.7"
  }
 },
 "nbformat": 4,
 "nbformat_minor": 2
}
